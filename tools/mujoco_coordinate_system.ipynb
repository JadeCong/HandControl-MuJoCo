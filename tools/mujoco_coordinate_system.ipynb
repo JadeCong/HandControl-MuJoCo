{
 "cells": [
  {
   "cell_type": "code",
   "execution_count": 1,
   "metadata": {},
   "outputs": [
    {
     "name": "stdout",
     "output_type": "stream",
     "text": [
      "[[ 0.70710678 -0.35355339  0.61237244]\n",
      " [ 0.70710678  0.35355339 -0.61237244]\n",
      " [ 0.          0.8660254   0.5       ]]\n",
      "[[ 0.61237244]\n",
      " [-0.61237244]\n",
      " [ 0.5       ]]\n"
     ]
    }
   ],
   "source": [
    "# test for coordinate system transform(construct the thumb finger base plane normal vector)\n",
    "# the mujoco world coordinate system(x:right/y:forward/z:up)\n",
    "\n",
    "import numpy as np\n",
    "\n",
    "\n",
    "vector1 = np.array([0,0,1]) #the thumb plane normal vector at the condition that the thumb joint0 rotate axis is y\n",
    "\n",
    "# method 1:(rotate target coordinate around reference coodinate by the regular sequence x, y and z axis)\n",
    "# gamma = np.pi/4 #for x axis\n",
    "# beta = -np.pi/4 #for y axis\n",
    "# alpha = -np.pi/4 #for z axis\n",
    "\n",
    "# the sequence of rotation is x, y and z（at the mujoco coordinate system: x:right,y:backward,z:down）\n",
    "# trans = np.matrix([[np.cos(alpha)*np.cos(beta), np.cos(alpha)*np.sin(beta)*np.sin(gamma)-np.sin(alpha)*np.cos(gamma), np.cos(alpha)*np.sin(beta)*np.cos(gamma)+np.sin(alpha)*np.sin(gamma)], [np.sin(alpha)*np.cos(beta), np.sin(alpha)*np.sin(beta)*np.sin(gamma)+np.cos(alpha)*np.cos(gamma), np.sin(alpha)*np.sin(beta)*np.cos(gamma)-np.cos(alpha)*np.sin(gamma)], [-np.sin(beta), np.cos(beta)*np.sin(gamma), np.cos(beta)*np.cos(gamma)]])\n",
    "# print(trans)\n",
    "\n",
    "# method 2:(rotate target coordinate around itself by the regular sequence z, y and x axis)\n",
    "alpha = np.pi/3 #for x axis\n",
    "beta = 0.0 #for y axis\n",
    "gamma = np.pi/4 #for z axis\n",
    "\n",
    "Rx = np.matrix([[1, 0, 0], [0, np.cos(alpha), -np.sin(alpha)], [0, np.sin(alpha), np.cos(alpha)]])\n",
    "Ry = np.matrix([[np.cos(beta), 0, np.sin(beta)], [0, 1, 0], [-np.sin(beta), 0, np.cos(beta)]])\n",
    "Rz = np.matrix([[np.cos(gamma), -np.sin(gamma), 0], [np.sin(gamma), np.cos(gamma), 0],[0, 0, 1]])\n",
    "\n",
    "# euler rotate(regular rotate sequence: zyx)\n",
    "transform = Rz * Ry * Rx\n",
    "print(transform)\n",
    "\n",
    "vector2 = transform * vector1.reshape(3,1) #calc the new plane normal vector in the new coordinate（the joint rotate axis is still y）\n",
    "print(vector2)\n",
    "\n"
   ]
  },
  {
   "cell_type": "code",
   "execution_count": null,
   "metadata": {},
   "outputs": [],
   "source": []
  }
 ],
 "metadata": {
  "kernelspec": {
   "display_name": "Python 3",
   "language": "python",
   "name": "python3"
  },
  "language_info": {
   "codemirror_mode": {
    "name": "ipython",
    "version": 3
   },
   "file_extension": ".py",
   "mimetype": "text/x-python",
   "name": "python",
   "nbconvert_exporter": "python",
   "pygments_lexer": "ipython3",
   "version": "3.6.8"
  }
 },
 "nbformat": 4,
 "nbformat_minor": 2
}
